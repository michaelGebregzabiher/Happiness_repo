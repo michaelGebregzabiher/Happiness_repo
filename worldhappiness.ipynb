import pandas as pd
df = read_csv"World Happiness Report - 2021.csv"
df.head()

